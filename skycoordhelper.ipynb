{
 "cells": [
  {
   "cell_type": "code",
   "execution_count": 1,
   "metadata": {},
   "outputs": [],
   "source": [
    "import numpy as np\n",
    "import matplotlib.pylab as plt\n",
    "import re\n",
    "import sys\n",
    "from astropy.io import fits\n",
    "import scipy.stats\n",
    "from astropy import coordinates as coord\n",
    "from astropy import units as u\n",
    "from astropy.time import Time\n",
    "import pdb"
   ]
  },
  {
   "cell_type": "code",
   "execution_count": 2,
   "metadata": {},
   "outputs": [],
   "source": [
    "dithertiles = np.genfromtxt('/Users/crockosi/desi/observing/dithertiles.txt',comments='#',dtype=[('id','i8'),('tileid','i8'),('ra','f8'),('dec','f8'),('program','S4'),('selected','S6')])"
   ]
  },
  {
   "cell_type": "code",
   "execution_count": 3,
   "metadata": {},
   "outputs": [],
   "source": [
    "dtilecoords = coord.SkyCoord(dithertiles['ra']*u.deg,dithertiles['dec']*u.deg,frame='icrs')"
   ]
  },
  {
   "cell_type": "code",
   "execution_count": 4,
   "metadata": {},
   "outputs": [
    {
     "data": {
      "text/plain": [
       "(360.0, 0.0)"
      ]
     },
     "execution_count": 4,
     "metadata": {},
     "output_type": "execute_result"
    },
    {
     "data": {
      "image/png": "[encoded data removed]",
      "text/plain": [
       "<Figure size 432x288 with 1 Axes>"
      ]
     },
     "metadata": {
      "needs_background": "light"
     },
     "output_type": "display_data"
    }
   ],
   "source": [
    "plt.plot(dtilecoords.ra,dtilecoords.dec,'bo')\n",
    "plt.xlim(360,0)"
   ]
  },
  {
   "cell_type": "code",
   "execution_count": 5,
   "metadata": {},
   "outputs": [],
   "source": [
    "kpnoloc = coord.EarthLocation.of_site('Kitt Peak')"
   ]
  },
  {
   "cell_type": "code",
   "execution_count": 6,
   "metadata": {},
   "outputs": [],
   "source": [
    "thisobstime = Time('2020-12-28T4:30:00',scale='utc',location=kpnoloc)\n"
   ]
  },
  {
   "cell_type": "code",
   "execution_count": 7,
   "metadata": {},
   "outputs": [],
   "source": [
    "dtilecoords = coord.SkyCoord(dithertiles['ra']*u.deg,dithertiles['dec']*u.deg,frame='icrs',location=kpnoloc)"
   ]
  },
  {
   "cell_type": "code",
   "execution_count": 8,
   "metadata": {},
   "outputs": [
    {
     "name": "stdout",
     "output_type": "stream",
     "text": [
      "18d24m00s\n",
      "28d20m24s\n"
     ]
    }
   ],
   "source": [
    "print(dtilecoords[0].ra)\n",
    "print(dtilecoords[0].dec)"
   ]
  },
  {
   "cell_type": "code",
   "execution_count": 9,
   "metadata": {},
   "outputs": [
    {
     "data": {
      "text/plain": [
       "18.4"
      ]
     },
     "execution_count": 9,
     "metadata": {},
     "output_type": "execute_result"
    }
   ],
   "source": [
    "dtilecoords[0].ra.deg"
   ]
  },
  {
   "cell_type": "code",
   "execution_count": 10,
   "metadata": {},
   "outputs": [
    {
     "data": {
      "text/plain": [
       "1.2266666666666668"
      ]
     },
     "execution_count": 10,
     "metadata": {},
     "output_type": "execute_result"
    }
   ],
   "source": [
    "dtilecoords[0].ra.hour"
   ]
  },
  {
   "cell_type": "code",
   "execution_count": 11,
   "metadata": {},
   "outputs": [],
   "source": [
    "dtilecoordsnow = dtilecoords.transform_to(coord.ITRS(obstime=thisobstime))"
   ]
  },
  {
   "cell_type": "code",
   "execution_count": 12,
   "metadata": {},
   "outputs": [
    {
     "data": {
      "text/plain": [
       "<SkyCoord (ITRS: obstime=2020-12-28T04:30:00.000): (x, y, z) [dimensionless]\n",
       "    (-0.72822156, -0.49266785, 0.47641552)>"
      ]
     },
     "execution_count": 12,
     "metadata": {},
     "output_type": "execute_result"
    }
   ],
   "source": [
    "dtilecoordsnow[0]"
   ]
  },
  {
   "cell_type": "code",
   "execution_count": 13,
   "metadata": {},
   "outputs": [],
   "source": [
    "dtilecoordsnowsp = dtilecoordsnow.spherical"
   ]
  },
  {
   "cell_type": "code",
   "execution_count": 14,
   "metadata": {},
   "outputs": [
    {
     "data": {
      "text/plain": [
       "<SphericalRepresentation (lon, lat, distance) in (deg, deg, )\n",
       "    (214.07975274, 28.45155424, 1.)>"
      ]
     },
     "execution_count": 14,
     "metadata": {},
     "output_type": "execute_result"
    }
   ],
   "source": [
    "dtilecoordsnowsp[0]"
   ]
  },
  {
   "cell_type": "code",
   "execution_count": 15,
   "metadata": {},
   "outputs": [
    {
     "data": {
      "text/plain": [
       "14.271983516073792"
      ]
     },
     "execution_count": 15,
     "metadata": {},
     "output_type": "execute_result"
    }
   ],
   "source": [
    "dtilecoordsnowsp[0].lon.hourangle"
   ]
  },
  {
   "cell_type": "code",
   "execution_count": 16,
   "metadata": {},
   "outputs": [
    {
     "data": {
      "text/plain": [
       "[<matplotlib.lines.Line2D at 0x7faef4b85a30>]"
      ]
     },
     "execution_count": 16,
     "metadata": {},
     "output_type": "execute_result"
    },
    {
     "data": {
      "image/png": "[encoded data removed]",
      "text/plain": [
       "<Figure size 432x288 with 1 Axes>"
      ]
     },
     "metadata": {
      "needs_background": "light"
     },
     "output_type": "display_data"
    }
   ],
   "source": [
    "plt.plot(dtilecoordsnowsp.lon,dtilecoordsnowsp.lat,'bo')"
   ]
  },
  {
   "cell_type": "code",
   "execution_count": 17,
   "metadata": {},
   "outputs": [
    {
     "data": {
      "text/latex": [
       "$3^\\mathrm{h}32^\\mathrm{m}01.434^\\mathrm{s}$"
      ],
      "text/plain": [
       "<Longitude 3.53373166 hourangle>"
      ]
     },
     "execution_count": 17,
     "metadata": {},
     "output_type": "execute_result"
    }
   ],
   "source": [
    "dtilecoordsnow.obstime.sidereal_time('apparent')"
   ]
  },
  {
   "cell_type": "code",
   "execution_count": 18,
   "metadata": {},
   "outputs": [],
   "source": [
    "itest,=np.where(dithertiles['tileid'] == 80371)"
   ]
  },
  {
   "cell_type": "code",
   "execution_count": 19,
   "metadata": {},
   "outputs": [
    {
     "data": {
      "text/plain": [
       "array([117])"
      ]
     },
     "execution_count": 19,
     "metadata": {},
     "output_type": "execute_result"
    }
   ],
   "source": [
    "itest"
   ]
  },
  {
   "cell_type": "code",
   "execution_count": 20,
   "metadata": {},
   "outputs": [
    {
     "name": "stdout",
     "output_type": "stream",
     "text": [
      "<SkyCoord (ITRS: obstime=2020-12-28T04:30:00.000): (x, y, z) [dimensionless]\n",
      "    (-0.25979208, -0.84732318, 0.46319705)>\n",
      "(252.95428768, 27.59360029, 1.) (deg, deg, )\n"
     ]
    }
   ],
   "source": [
    "print(dtilecoordsnow[36])\n",
    "print(dtilecoordsnowsp[36])"
   ]
  },
  {
   "cell_type": "code",
   "execution_count": 21,
   "metadata": {},
   "outputs": [
    {
     "data": {
      "text/plain": [
       "<SkyCoord (ICRS): (ra, dec) in deg\n",
       "    (57.24, 27.53)>"
      ]
     },
     "execution_count": 21,
     "metadata": {},
     "output_type": "execute_result"
    }
   ],
   "source": [
    "dtilecoords[36]"
   ]
  },
  {
   "cell_type": "code",
   "execution_count": 22,
   "metadata": {},
   "outputs": [],
   "source": [
    "hanowraw = kpnoloc.lon-dtilecoordsnowsp[36].lon"
   ]
  },
  {
   "cell_type": "code",
   "execution_count": 23,
   "metadata": {},
   "outputs": [
    {
     "data": {
      "text/latex": [
       "$-4^\\circ33{}^\\prime15.4356{}^{\\prime\\prime}$"
      ],
      "text/plain": [
       "<Angle -4.55428768 deg>"
      ]
     },
     "execution_count": 23,
     "metadata": {},
     "output_type": "execute_result"
    }
   ],
   "source": [
    "hanowraw + 360*u.deg"
   ]
  },
  {
   "cell_type": "code",
   "execution_count": 24,
   "metadata": {},
   "outputs": [],
   "source": [
    "hanow = hanowraw.wrap_at(180*u.deg)"
   ]
  },
  {
   "cell_type": "code",
   "execution_count": 25,
   "metadata": {},
   "outputs": [
    {
     "name": "stdout",
     "output_type": "stream",
     "text": [
      "-364d33m15.4356s\n",
      "-4d33m15.4356s\n"
     ]
    }
   ],
   "source": [
    "print(hanowraw)\n",
    "print(hanow)"
   ]
  },
  {
   "cell_type": "code",
   "execution_count": 26,
   "metadata": {},
   "outputs": [],
   "source": [
    "dtilehanow = kpnoloc.lon-dtilecoordsnowsp.lon"
   ]
  },
  {
   "cell_type": "code",
   "execution_count": 27,
   "metadata": {},
   "outputs": [],
   "source": [
    "dtilehanow.wrap_at(180*u.deg,inplace=True)"
   ]
  },
  {
   "cell_type": "code",
   "execution_count": 28,
   "metadata": {},
   "outputs": [
    {
     "data": {
      "text/plain": [
       "[<matplotlib.lines.Line2D at 0x7faef3d956d0>]"
      ]
     },
     "execution_count": 28,
     "metadata": {},
     "output_type": "execute_result"
    },
    {
     "data": {
      "image/png": "[encoded data removed]",
      "text/plain": [
       "<Figure size 432x288 with 1 Axes>"
      ]
     },
     "metadata": {
      "needs_background": "light"
     },
     "output_type": "display_data"
    }
   ],
   "source": [
    "plt.plot(dtilehanow,dtilecoordsnowsp.lat,'bo')"
   ]
  },
  {
   "cell_type": "code",
   "execution_count": 29,
   "metadata": {},
   "outputs": [
    {
     "data": {
      "text/plain": [
       "[0,\n",
       " 13,\n",
       " 26,\n",
       " 39,\n",
       " 52,\n",
       " 65,\n",
       " 78,\n",
       " 91,\n",
       " 104,\n",
       " 117,\n",
       " 130,\n",
       " 143,\n",
       " 156,\n",
       " 169,\n",
       " 182,\n",
       " 195,\n",
       " 208,\n",
       " 221,\n",
       " 234,\n",
       " 247,\n",
       " 260,\n",
       " 273,\n",
       " 286,\n",
       " 299,\n",
       " 312,\n",
       " 325,\n",
       " 338]"
      ]
     },
     "execution_count": 29,
     "metadata": {},
     "output_type": "execute_result"
    }
   ],
   "source": [
    "list(range(0,351,13))"
   ]
  },
  {
   "cell_type": "code",
   "execution_count": 30,
   "metadata": {},
   "outputs": [
    {
     "name": "stdout",
     "output_type": "stream",
     "text": [
      "80254\n",
      "80267\n",
      "80280\n",
      "80293\n",
      "80306\n",
      "80319\n",
      "80332\n",
      "80345\n",
      "80358\n",
      "80371\n",
      "80384\n",
      "80397\n",
      "80410\n",
      "80423\n",
      "80436\n",
      "80449\n",
      "80462\n",
      "80475\n",
      "80488\n",
      "80501\n",
      "80514\n",
      "80527\n",
      "80540\n",
      "80553\n",
      "80566\n",
      "80579\n",
      "80592\n"
     ]
    }
   ],
   "source": [
    "for i in range(0,351,13):\n",
    "    print(dithertiles['tileid'][i])"
   ]
  },
  {
   "cell_type": "code",
   "execution_count": 35,
   "metadata": {},
   "outputs": [
    {
     "data": {
      "image/png": "[encoded data removed]",
      "text/plain": [
       "<Figure size 432x288 with 1 Axes>"
      ]
     },
     "metadata": {
      "needs_background": "light"
     },
     "output_type": "display_data"
    }
   ],
   "source": [
    "plt.plot(dtilehanow,dtilecoordsnowsp.lat,'bo')\n",
    "for i in range(0,351,13):\n",
    "    plt.text(dtilehanow[i].value,dtilecoordsnowsp[i].lat.value+2,dithertiles['tileid'][i],fontsize=8)"
   ]
  },
  {
   "cell_type": "code",
   "execution_count": null,
   "metadata": {},
   "outputs": [],
   "source": []
  }
 ],
 "metadata": {
  "kernelspec": {
   "display_name": "Python 3",
   "language": "python",
   "name": "python3"
  },
  "language_info": {
   "codemirror_mode": {
    "name": "ipython",
    "version": 3
   },
   "file_extension": ".py",
   "mimetype": "text/x-python",
   "name": "python",
   "nbconvert_exporter": "python",
   "pygments_lexer": "ipython3",
   "version": "3.8.3"
  }
 },
 "nbformat": 4,
 "nbformat_minor": 4
}
