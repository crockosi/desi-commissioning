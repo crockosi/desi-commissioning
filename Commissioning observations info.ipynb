{
 "cells": [
  {
   "cell_type": "code",
   "execution_count": 1,
   "metadata": {},
   "outputs": [],
   "source": [
    "import os\n",
    "import numpy as np\n",
    "\n",
    "import matplotlib.pyplot as plt\n",
    "from astropy.io import fits\n",
    "from astropy.table import Table"
   ]
  },
  {
   "cell_type": "code",
   "execution_count": 2,
   "metadata": {},
   "outputs": [],
   "source": [
    "import desispec.io\n",
    "import desisim.io\n",
    "import desisim.templates"
   ]
  },
  {
   "cell_type": "code",
   "execution_count": 3,
   "metadata": {},
   "outputs": [],
   "source": [
    "%matplotlib inline"
   ]
  },
  {
   "cell_type": "code",
   "execution_count": 4,
   "metadata": {},
   "outputs": [],
   "source": [
    "import astropy.units as u\n",
    "from astropy.coordinates import SkyCoord"
   ]
  },
  {
   "cell_type": "code",
   "execution_count": 5,
   "metadata": {},
   "outputs": [],
   "source": [
    "import specsim.simulator"
   ]
  },
  {
   "cell_type": "code",
   "execution_count": 6,
   "metadata": {},
   "outputs": [
    {
     "name": "stdout",
     "output_type": "stream",
     "text": [
      "Loaded 65000 rows from /global/common/cori/contrib/desi/desiconda/current/code/desimodel/master/data/spectra/spec-sky-bright.dat with args {'format': 'ascii'}\n",
      "Loaded 65000 rows from /global/common/cori/contrib/desi/desiconda/current/code/desimodel/master/data/spectra/spec-sky.dat with args {'format': 'ascii'}\n",
      "Loaded 65000 rows from /global/common/cori/contrib/desi/desiconda/current/code/desimodel/master/data/spectra/spec-sky-grey.dat with args {'format': 'ascii'}\n",
      "Loaded 65000 rows from /global/common/cori/contrib/desi/desiconda/current/code/desimodel/master/data/spectra/ZenithExtinction-KPNO.dat with args {'format': 'ascii'}\n",
      "Loaded 667 rows from /global/common/cori/contrib/desi/desiconda/current/code/desimodel/master/data/sky/solarspec.txt with args {'format': 'ascii.basic'}\n",
      "Atmosphere initialized with condition 'dark' from dict_keys(['bright', 'dark', 'grey']).\n",
      "Seeing is 1.1 arcsec at 6355.0 Angstrom with Moffat beta 3.5.\n",
      "Lunar V-band extinction coefficient is 0.15154.\n",
      "Loaded 4761 rows from /global/common/cori/contrib/desi/desiconda/current/code/desimodel/master/data/specpsf/psf-quicksim.fits with args {'hdu': 'QUICKSIM-B'}\n",
      "Loaded 24651 rows from /global/common/cori/contrib/desi/desiconda/current/code/desimodel/master/data/throughput/thru-b.fits with args {'hdu': 'THROUGHPUT'}\n",
      "Loaded 4233 rows from /global/common/cori/contrib/desi/desiconda/current/code/desimodel/master/data/specpsf/psf-quicksim.fits with args {'hdu': 'QUICKSIM-R'}\n",
      "Loaded 22411 rows from /global/common/cori/contrib/desi/desiconda/current/code/desimodel/master/data/throughput/thru-r.fits with args {'hdu': 'THROUGHPUT'}\n",
      "Loaded 4799 rows from /global/common/cori/contrib/desi/desiconda/current/code/desimodel/master/data/specpsf/psf-quicksim.fits with args {'hdu': 'QUICKSIM-Z'}\n",
      "Loaded 25531 rows from /global/common/cori/contrib/desi/desiconda/current/code/desimodel/master/data/throughput/thru-z.fits with args {'hdu': 'THROUGHPUT'}\n",
      "Loaded 421 rows from /global/common/cori/contrib/desi/desiconda/current/code/desimodel/master/data/focalplane/platescale.txt with args {'format': 'ascii'}\n",
      "Loaded 27 rows from /global/common/cori/contrib/desi/desiconda/current/code/desimodel/master/data/throughput/fiberloss-star.dat with args {'format': 'ascii'}\n",
      "Loaded 27 rows from /global/common/cori/contrib/desi/desiconda/current/code/desimodel/master/data/throughput/fiberloss-perfect.dat with args {'format': 'ascii'}\n",
      "Loaded 27 rows from /global/common/cori/contrib/desi/desiconda/current/code/desimodel/master/data/throughput/fiberloss-sky.dat with args {'format': 'ascii'}\n",
      "Loaded 27 rows from /global/common/cori/contrib/desi/desiconda/current/code/desimodel/master/data/throughput/fiberloss-elg.dat with args {'format': 'ascii'}\n",
      "Loaded 27 rows from /global/common/cori/contrib/desi/desiconda/current/code/desimodel/master/data/throughput/fiberloss-lrg.dat with args {'format': 'ascii'}\n",
      "Loaded 27 rows from /global/common/cori/contrib/desi/desiconda/current/code/desimodel/master/data/throughput/fiberloss-qso.dat with args {'format': 'ascii'}\n",
      "Loaded 12 x 15 values from /global/common/cori/contrib/desi/desiconda/current/code/desimodel/master/data/throughput/DESI-0347_blur.ecsv.\n",
      "Loaded 12 x 15 values from /global/common/cori/contrib/desi/desiconda/current/code/desimodel/master/data/throughput/DESI-0347_offset.ecsv.\n",
      "Telescope effective area: 8.679 m2\n",
      "Field of view diameter: 828.0 mm = 3.26 deg.\n",
      "Fiberloss source types: dict_keys(['star', 'perfect', 'sky', 'elg', 'lrg', 'qso']).\n",
      "Loaded 65000 rows from /global/common/cori/contrib/desi/desiconda/current/code/desimodel/master/data/spectra/spec-ABmag22.0.dat with args {'format': 'ascii'}\n",
      "Initialized source '22nd AB magnitude reference' of type 'qso'.\n",
      "Source located at (x, y) = (-70.7 mm, 70.7 mm).\n",
      "Source located at (ra, dec) = (0.0 deg, 0.0 deg).\n",
      "Observatory located at (lat, lon, elev) =  (-111.6 deg, 32.0 deg, 2120.0 m).\n",
      "Observing field center (ra, dec) = (0.0 deg, 0.0 deg).\n",
      "Exposure start MJD 55000.500, duration 1000.0 s.\n",
      "Conditions: pressure 788.1 hPa, temperature 15.0 deg_C, RH 0.000.\n",
      "Boresight (alt, az) = (51.5 deg, 141.5 deg).\n",
      "Allocated 4800.0Mb of table data.\n"
     ]
    }
   ],
   "source": [
    "desi = specsim.simulator.Simulator('desi', num_fibers=500, verbose=True)"
   ]
  },
  {
   "cell_type": "code",
   "execution_count": 7,
   "metadata": {},
   "outputs": [
    {
     "name": "stdout",
     "output_type": "stream",
     "text": [
      "Loaded 65000 rows from /global/common/cori/contrib/desi/desiconda/current/code/desimodel/master/data/spectra/spec-sky-bright.dat with args {'format': 'ascii'}\n",
      "Loaded 65000 rows from /global/common/cori/contrib/desi/desiconda/current/code/desimodel/master/data/spectra/spec-sky.dat with args {'format': 'ascii'}\n",
      "Loaded 65000 rows from /global/common/cori/contrib/desi/desiconda/current/code/desimodel/master/data/spectra/spec-sky-grey.dat with args {'format': 'ascii'}\n",
      "Loaded 65000 rows from /global/common/cori/contrib/desi/desiconda/current/code/desimodel/master/data/spectra/ZenithExtinction-KPNO.dat with args {'format': 'ascii'}\n",
      "Loaded 667 rows from /global/common/cori/contrib/desi/desiconda/current/code/desimodel/master/data/sky/solarspec.txt with args {'format': 'ascii.basic'}\n",
      "Atmosphere initialized with condition 'dark' from dict_keys(['bright', 'dark', 'grey']).\n",
      "Seeing is 1.1 arcsec at 6355.0 Angstrom with Moffat beta 3.5.\n",
      "Lunar V-band extinction coefficient is 0.15154.\n",
      "Loaded 4761 rows from /global/common/cori/contrib/desi/desiconda/current/code/desimodel/master/data/specpsf/psf-quicksim.fits with args {'hdu': 'QUICKSIM-B'}\n",
      "Loaded 24651 rows from /global/common/cori/contrib/desi/desiconda/current/code/desimodel/master/data/throughput/thru-b.fits with args {'hdu': 'THROUGHPUT'}\n",
      "Loaded 4233 rows from /global/common/cori/contrib/desi/desiconda/current/code/desimodel/master/data/specpsf/psf-quicksim.fits with args {'hdu': 'QUICKSIM-R'}\n",
      "Loaded 22411 rows from /global/common/cori/contrib/desi/desiconda/current/code/desimodel/master/data/throughput/thru-r.fits with args {'hdu': 'THROUGHPUT'}\n",
      "Loaded 4799 rows from /global/common/cori/contrib/desi/desiconda/current/code/desimodel/master/data/specpsf/psf-quicksim.fits with args {'hdu': 'QUICKSIM-Z'}\n",
      "Loaded 25531 rows from /global/common/cori/contrib/desi/desiconda/current/code/desimodel/master/data/throughput/thru-z.fits with args {'hdu': 'THROUGHPUT'}\n",
      "Loaded 421 rows from /global/common/cori/contrib/desi/desiconda/current/code/desimodel/master/data/focalplane/platescale.txt with args {'format': 'ascii'}\n",
      "Loaded 27 rows from /global/common/cori/contrib/desi/desiconda/current/code/desimodel/master/data/throughput/fiberloss-star.dat with args {'format': 'ascii'}\n",
      "Loaded 27 rows from /global/common/cori/contrib/desi/desiconda/current/code/desimodel/master/data/throughput/fiberloss-perfect.dat with args {'format': 'ascii'}\n",
      "Loaded 27 rows from /global/common/cori/contrib/desi/desiconda/current/code/desimodel/master/data/throughput/fiberloss-sky.dat with args {'format': 'ascii'}\n",
      "Loaded 27 rows from /global/common/cori/contrib/desi/desiconda/current/code/desimodel/master/data/throughput/fiberloss-elg.dat with args {'format': 'ascii'}\n",
      "Loaded 27 rows from /global/common/cori/contrib/desi/desiconda/current/code/desimodel/master/data/throughput/fiberloss-lrg.dat with args {'format': 'ascii'}\n",
      "Loaded 27 rows from /global/common/cori/contrib/desi/desiconda/current/code/desimodel/master/data/throughput/fiberloss-qso.dat with args {'format': 'ascii'}\n",
      "Loaded 12 x 15 values from /global/common/cori/contrib/desi/desiconda/current/code/desimodel/master/data/throughput/DESI-0347_blur.ecsv.\n",
      "Loaded 12 x 15 values from /global/common/cori/contrib/desi/desiconda/current/code/desimodel/master/data/throughput/DESI-0347_offset.ecsv.\n",
      "Telescope effective area: 8.679 m2\n",
      "Field of view diameter: 828.0 mm = 3.26 deg.\n",
      "Fiberloss source types: dict_keys(['star', 'perfect', 'sky', 'elg', 'lrg', 'qso']).\n",
      "Loaded 65000 rows from /global/common/cori/contrib/desi/desiconda/current/code/desimodel/master/data/spectra/spec-ABmag22.0.dat with args {'format': 'ascii'}\n",
      "Initialized source '22nd AB magnitude reference' of type 'qso'.\n",
      "Source located at (x, y) = (-70.7 mm, 70.7 mm).\n",
      "Source located at (ra, dec) = (0.0 deg, 0.0 deg).\n",
      "Observatory located at (lat, lon, elev) =  (-111.6 deg, 32.0 deg, 2120.0 m).\n",
      "Observing field center (ra, dec) = (0.0 deg, 0.0 deg).\n",
      "Exposure start MJD 55000.500, duration 1000.0 s.\n",
      "Conditions: pressure 788.1 hPa, temperature 15.0 deg_C, RH 0.000.\n",
      "Boresight (alt, az) = (51.5 deg, 141.5 deg).\n",
      "Allocated 960.5Mb of table data.\n"
     ]
    }
   ],
   "source": [
    "desi = specsim.simulator.Simulator('desi', num_fibers=100, verbose=True)"
   ]
  },
  {
   "cell_type": "code",
   "execution_count": 8,
   "metadata": {},
   "outputs": [
    {
     "name": "stdout",
     "output_type": "stream",
     "text": [
      "Help on method simulate in module specsim.simulator:\n",
      "\n",
      "simulate(sky_positions=None, focal_positions=None, fiber_acceptance_fraction=None, source_fluxes=None, source_types=None, source_fraction=None, source_half_light_radius=None, source_minor_major_axis_ratio=None, source_position_angle=None, calibration_surface_brightness=None, save_fiberloss=None) method of specsim.simulator.Simulator instance\n",
      "    Simulate a single exposure.\n",
      "    \n",
      "    Simulation results are written to internal tables that are overwritten\n",
      "    each time this method is called.  Some metadata is also saved as\n",
      "    attributes of this object: `focal_x`, `focal_y`, `fiber_area`.\n",
      "    \n",
      "    The positions and properties of each source can optionally be specified\n",
      "    individually for each fiber via array arguments.  Any parameters that\n",
      "    are not specified this way will use the same value for each fiber\n",
      "    taken from the configuration data, as noted below.\n",
      "    \n",
      "    Fibers are positioned using either (x,y) focal-plane coordinates\n",
      "    or else (ra,dec) sky coordinates.  The first available item on this\n",
      "    list will be used:\n",
      "    - ``focal_positions`` argument.\n",
      "    - ``sky_positions`` argument.\n",
      "    - ``source.location.constants.focal_x,y`` config data.\n",
      "    - ``source.location.sky`` config data.\n",
      "    When config data is used, it is duplicated for all fibers. Use the\n",
      "    verbose mode to see details on how fibers are being positioned. Note\n",
      "    that the observing airmass will be calculated when positioning with\n",
      "    sky coordinates, and then available via ``self.observation.airmass``.\n",
      "    \n",
      "    Calibration exposures can be simulated by providing an array of\n",
      "    ``calibration_surface_brightness`` values to use.  In this case,\n",
      "    the source and fiberloss inputs are ignored, and no atmospheric\n",
      "    emission or extinction are applied.\n",
      "    \n",
      "    Per-camera output tables will not be filled if this Simulator was\n",
      "    initialized with ``camera_output`` False.\n",
      "    \n",
      "    Parameters\n",
      "    ----------\n",
      "    sky_positions : astropy.units.Quantity or None\n",
      "        Sky positions of each object. Must have a length equal to\n",
      "        num_fibers.  Defaults to ``source.location.sky`` when None.\n",
      "    focal_positions : astropy.units.Quantity or None\n",
      "        Focal-plane coordinates of each object relative to the plate\n",
      "        center, with length units. Must have a length equal to num_fibers.\n",
      "        Defaults to ``source.location.constants.focal_x,y`` when None.\n",
      "    fiber_acceptance_fraction : array or None\n",
      "        Array of shape (num_fibers, num_wlen) giving the fiber acceptance\n",
      "        fraction to use for each fiber. Defaults to calling\n",
      "        :meth:`fiberloss.calculate_fiber_acceptance_fraction` when None.\n",
      "    source_fluxes : array or None\n",
      "        Array of shape (num_fibers, num_wlen) giving the source flux\n",
      "        above the atmosphere illuminating each fiber. Defaults to\n",
      "        ``source.table`` when None.\n",
      "    source_types : array or None\n",
      "        Array of strings with length num_fibers.  Each string must have a\n",
      "        corresponding pre-loaded fiberloss file in the configuration.\n",
      "        Defaults to ``source.type`` when None.\n",
      "    source_fraction : array or None\n",
      "        Array of shape (num_fibers, 2) giving the disk and bulge fractions\n",
      "        for each source.  Fractions must be in the range [0, 1] and their\n",
      "        sum must be <= 1.  If their sum is <1, the remainder is modeled as\n",
      "        a point-like component.  Defaults to\n",
      "        ``source.profile.disk,bulge_fraction`` when None.\n",
      "    source_half_light_radius : array or None\n",
      "        Array of shape (num_fibers, 2) giving the disk and bulge half-light\n",
      "        radii in on-sky angular units.  Defaults to values in\n",
      "        ``source.profile.disk,bulge_shape`` when None.\n",
      "    source_minor_major_axis_ratio : array or None\n",
      "        Array of shape (num_fibers, 2) giving the disk and bulge minor/major\n",
      "        axis ratios, in the range (0,1]. Defaults to values in\n",
      "        ``source.profile.disk,bulge_shape`` when None.\n",
      "    source_position_angle : array or None\n",
      "        Array of shape (num_fibers, 2) giving the disk and bulge major\n",
      "        axis alignments, expressed as a clockwise rotation from the +x\n",
      "        axis, with angular units. Defaults to values in\n",
      "        ``source.profile.disk,bulge_shape`` when None.\n",
      "    calibration_surface_brightness : array or None\n",
      "        Array of shape (num_fibers, num_wlen) giving the calibration\n",
      "        source surface brightness illuminating each fiber. When this is\n",
      "        set, all source parameters (those beginning with ``source_``)\n",
      "        and ``fiber_acceptance_fraction`` are ignored and this is assumed\n",
      "        to be a calibration exposure.\n",
      "    save_fiberloss : str or None\n",
      "        Basename for saving FITS images and tabulated fiberloss.\n",
      "        Ignored unless instrument.fiberloss.method is galsim.\n",
      "\n"
     ]
    }
   ],
   "source": [
    "help(desi.simulate)"
   ]
  },
  {
   "cell_type": "code",
   "execution_count": 9,
   "metadata": {},
   "outputs": [],
   "source": [
    "simwave = desi.simulated['wavelength']"
   ]
  },
  {
   "cell_type": "code",
   "execution_count": 10,
   "metadata": {},
   "outputs": [],
   "source": [
    "import desisim"
   ]
  },
  {
   "cell_type": "code",
   "execution_count": 11,
   "metadata": {},
   "outputs": [
    {
     "name": "stdout",
     "output_type": "stream",
     "text": [
      "INFO:io.py:967:read_basis_templates: Reading /global/project/projectdirs/desi/spectro/templates/basis_templates/v2.3/star_templates_v2.1.fits\n"
     ]
    }
   ],
   "source": [
    "starmaker = desisim.templates.MWS_STAR(wave=simwave)"
   ]
  },
  {
   "cell_type": "code",
   "execution_count": 12,
   "metadata": {
    "scrolled": true
   },
   "outputs": [],
   "source": [
    "starfluxes,starwaves,starmetas = starmaker.make_templates(rmagrange=(7,18))"
   ]
  },
  {
   "cell_type": "code",
   "execution_count": 13,
   "metadata": {},
   "outputs": [
    {
     "data": {
      "text/plain": [
       "(100, 63001)"
      ]
     },
     "execution_count": 13,
     "metadata": {},
     "output_type": "execute_result"
    }
   ],
   "source": [
    "starfluxes.shape"
   ]
  },
  {
   "cell_type": "code",
   "execution_count": 14,
   "metadata": {},
   "outputs": [
    {
     "data": {
      "text/html": [
       "&lt;Row index=0&gt;\n",
       "<table id=\"table47204826459328\">\n",
       "<thead><tr><th>OBJTYPE</th><th>SUBTYPE</th><th>TEMPLATEID</th><th>SEED</th><th>REDSHIFT</th><th>MAG</th><th>FLUX_G</th><th>FLUX_R</th><th>FLUX_Z</th><th>FLUX_W1</th><th>FLUX_W2</th><th>OIIFLUX</th><th>HBETAFLUX</th><th>EWOII</th><th>EWHBETA</th><th>D4000</th><th>VDISP</th><th>OIIDOUBLET</th><th>OIIIHBETA</th><th>OIIHBETA</th><th>NIIHBETA</th><th>SIIHBETA</th><th>ZMETAL</th><th>AGE</th><th>TEFF</th><th>LOGG</th><th>FEH</th></tr></thead>\n",
       "<thead><tr><th></th><th></th><th></th><th></th><th></th><th></th><th>nanomaggies</th><th>nanomaggies</th><th>nanomaggies</th><th>nanomaggies</th><th>nanomaggies</th><th>erg / (cm2 s)</th><th>erg / (cm2 s)</th><th>Angstrom</th><th>Angstrom</th><th></th><th>km / s</th><th></th><th>dex</th><th>dex</th><th>dex</th><th>dex</th><th></th><th>Gyr</th><th>K</th><th>m / s2</th><th></th></tr></thead>\n",
       "<thead><tr><th>str10</th><th>str10</th><th>int32</th><th>int64</th><th>float64</th><th>float32</th><th>float32</th><th>float32</th><th>float32</th><th>float32</th><th>float32</th><th>float32</th><th>float32</th><th>float32</th><th>float32</th><th>float32</th><th>float32</th><th>float32</th><th>float32</th><th>float32</th><th>float32</th><th>float32</th><th>float32</th><th>float32</th><th>float32</th><th>float32</th><th>float32</th></tr></thead>\n",
       "<tr><td>MWS_STAR</td><td></td><td>344</td><td>1272508901</td><td>-0.00167407798393</td><td>12.2623</td><td>3537.94</td><td>12447.2</td><td>40587.0</td><td>43542.8</td><td>25159.4</td><td>-1.0</td><td>-1.0</td><td>-1.0</td><td>-1.0</td><td>-1.0</td><td>-1.0</td><td>-1.0</td><td>-1.0</td><td>-1.0</td><td>-1.0</td><td>-1.0</td><td>-1.0</td><td>-1.0</td><td>3500.0</td><td>1.0</td><td>-2.0</td></tr>\n",
       "</table>"
      ],
      "text/plain": [
       "<Row index=0>\n",
       "OBJTYPE  SUBTYPE TEMPLATEID    SEED         REDSHIFT       MAG      FLUX_G      FLUX_R      FLUX_Z     FLUX_W1     FLUX_W2      OIIFLUX      HBETAFLUX    EWOII   EWHBETA   D4000   VDISP  OIIDOUBLET OIIIHBETA OIIHBETA NIIHBETA SIIHBETA  ZMETAL   AGE     TEFF    LOGG    FEH  \n",
       "                                                                 nanomaggies nanomaggies nanomaggies nanomaggies nanomaggies erg / (cm2 s) erg / (cm2 s) Angstrom Angstrom          km / s               dex      dex      dex      dex              Gyr      K     m / s2        \n",
       " str10    str10    int32      int64         float64      float32   float32     float32     float32     float32     float32      float32       float32    float32  float32  float32 float32  float32    float32  float32  float32  float32  float32 float32 float32 float32 float32\n",
       "-------- ------- ---------- ---------- ----------------- ------- ----------- ----------- ----------- ----------- ----------- ------------- ------------- -------- -------- ------- ------- ---------- --------- -------- -------- -------- ------- ------- ------- ------- -------\n",
       "MWS_STAR                344 1272508901 -0.00167407798393 12.2623     3537.94     12447.2     40587.0     43542.8     25159.4          -1.0          -1.0     -1.0     -1.0    -1.0    -1.0       -1.0      -1.0     -1.0     -1.0     -1.0    -1.0    -1.0  3500.0     1.0    -2.0"
      ]
     },
     "execution_count": 14,
     "metadata": {},
     "output_type": "execute_result"
    }
   ],
   "source": [
    "starmetas[0]"
   ]
  },
  {
   "cell_type": "code",
   "execution_count": 15,
   "metadata": {},
   "outputs": [],
   "source": [
    "gmag = -2.5*np.log10(starmetas['FLUX_G'])+22.5"
   ]
  },
  {
   "cell_type": "code",
   "execution_count": 16,
   "metadata": {},
   "outputs": [],
   "source": [
    "rmag = -2.5*np.log10(starmetas['FLUX_R'])+22.5"
   ]
  },
  {
   "cell_type": "code",
   "execution_count": 17,
   "metadata": {},
   "outputs": [],
   "source": [
    "gmr = gmag-rmag"
   ]
  },
  {
   "cell_type": "code",
   "execution_count": 18,
   "metadata": {},
   "outputs": [
    {
     "data": {
      "text/plain": [
       "[<matplotlib.lines.Line2D at 0x2aeec11dc828>]"
      ]
     },
     "execution_count": 18,
     "metadata": {},
     "output_type": "execute_result"
    },
    {
     "data": {
      "image/png": "[encoded data removed]",
      "text/plain": [
       "<matplotlib.figure.Figure at 0x2aeec1208208>"
      ]
     },
     "metadata": {},
     "output_type": "display_data"
    }
   ],
   "source": [
    "plt.plot(gmr,gmag,'bo',ms=3,mew=0)"
   ]
  },
  {
   "cell_type": "code",
   "execution_count": 19,
   "metadata": {},
   "outputs": [],
   "source": [
    "profs = np.repeat('star',100)"
   ]
  },
  {
   "cell_type": "code",
   "execution_count": 20,
   "metadata": {},
   "outputs": [
    {
     "data": {
      "text/plain": [
       "(100,)"
      ]
     },
     "execution_count": 20,
     "metadata": {},
     "output_type": "execute_result"
    }
   ],
   "source": [
    "profs.shape"
   ]
  },
  {
   "cell_type": "code",
   "execution_count": 21,
   "metadata": {},
   "outputs": [
    {
     "data": {
      "text/plain": [
       "array(['star', 'star'], \n",
       "      dtype='<U4')"
      ]
     },
     "execution_count": 21,
     "metadata": {},
     "output_type": "execute_result"
    }
   ],
   "source": [
    "profs[0:2]"
   ]
  },
  {
   "cell_type": "code",
   "execution_count": 22,
   "metadata": {},
   "outputs": [
    {
     "data": {
      "text/plain": [
       "array([ 196.26001419,  203.16873327,  222.77464299,  244.11858667,\n",
       "        262.1352187 ])"
      ]
     },
     "execution_count": 22,
     "metadata": {},
     "output_type": "execute_result"
    }
   ],
   "source": [
    "starfluxes[0,0:5]"
   ]
  },
  {
   "cell_type": "code",
   "execution_count": 23,
   "metadata": {},
   "outputs": [],
   "source": [
    "starfluxes=starfluxes*6e-17 * u.erg / (u.Angstrom * u.s * u.cm ** 2)"
   ]
  },
  {
   "cell_type": "code",
   "execution_count": 24,
   "metadata": {
    "scrolled": true
   },
   "outputs": [
    {
     "name": "stdout",
     "output_type": "stream",
     "text": [
      "All fibers positioned at config (x,y).\n"
     ]
    }
   ],
   "source": [
    "desi.simulate(source_fluxes=starfluxes,source_types=profs)"
   ]
  },
  {
   "cell_type": "code",
   "execution_count": 25,
   "metadata": {},
   "outputs": [
    {
     "data": {
      "image/png": "[encoded data removed]",
      "text/plain": [
       "<matplotlib.figure.Figure at 0x2aeec11e8a90>"
      ]
     },
     "metadata": {},
     "output_type": "display_data"
    }
   ],
   "source": [
    "desi.plot(fiber=0)"
   ]
  },
  {
   "cell_type": "code",
   "execution_count": 26,
   "metadata": {},
   "outputs": [
    {
     "name": "stdout",
     "output_type": "stream",
     "text": [
      "Help on Observation in module specsim.observation object:\n",
      "\n",
      "class Observation(builtins.object)\n",
      " |  Model the parameters describing a single spectroscopic observation.\n",
      " |  \n",
      " |  The following parameters can be changed after an Observation object has\n",
      " |  been created: exposure_time, exposure_start, pointing.\n",
      " |  \n",
      " |  Parameters\n",
      " |  ----------\n",
      " |  location : astropy.coordinates.EarthLocation\n",
      " |      Observatory location on the surface of the earth.\n",
      " |  exposure_time : astropy.units.Quantity\n",
      " |      Open shutter exposure time for this observation.\n",
      " |  exposure_start : astropy.time.Time\n",
      " |      Time when the shutter opens and the exposure starts.\n",
      " |  pointing : astropy.coordinates.SkyCoord\n",
      " |      Sky position where the telescope boresight is pointing during the\n",
      " |      observation.\n",
      " |  wavelength : astropy.units.Quantity\n",
      " |      Array of wavelength bin centers where the simulated spectrum is\n",
      " |      calculated, with units.\n",
      " |  pressure : astropy.units.Quantity\n",
      " |      Used to create an :func:`observing model\n",
      " |      <specsim.transform.create_observing_model>`.\n",
      " |  temperature : astropy.units.Quantity\n",
      " |      Used to create an :func:`observing model\n",
      " |      <specsim.transform.create_observing_model>`.\n",
      " |  relative_humidity : astropy.units.Quantity\n",
      " |      Used to create an :func:`observing model\n",
      " |      <specsim.transform.create_observing_model>`.\n",
      " |  \n",
      " |  Methods defined here:\n",
      " |  \n",
      " |  __init__(self, location, exposure_time, exposure_start, pointing, wavelength, pressure, temperature, relative_humidity)\n",
      " |      Initialize self.  See help(type(self)) for accurate signature.\n",
      " |  \n",
      " |  locate_on_focal_plane(self, sky_position, instrument)\n",
      " |      Transform a sky position into focal-plane coordinates.\n",
      " |      \n",
      " |      The input sky position can refer to one or more objects.\n",
      " |      \n",
      " |      Parameters\n",
      " |      ----------\n",
      " |      sky_position : astropy.coordinates.SkyCoord\n",
      " |          Position of one or more objects on the sky.\n",
      " |      instrument : specsim.instrument.Instrument\n",
      " |          Description of the instrument being simulated.\n",
      " |      \n",
      " |      Returns\n",
      " |      -------\n",
      " |      tuple\n",
      " |          Tuple (x, y) of focal-plane coordinates given as astropy\n",
      " |          quantities with length units.\n",
      " |  \n",
      " |  ----------------------------------------------------------------------\n",
      " |  Data descriptors defined here:\n",
      " |  \n",
      " |  __dict__\n",
      " |      dictionary for instance variables (if defined)\n",
      " |  \n",
      " |  __weakref__\n",
      " |      list of weak references to the object (if defined)\n",
      " |  \n",
      " |  exposure_start\n",
      " |      astropy.time.Time: Time when the shutter opens.\n",
      " |  \n",
      " |  exposure_time\n",
      " |      astropy.units.Quantity: Exposure time for this observation.\n",
      " |  \n",
      " |  location\n",
      " |      astropy.coordinates.EarthLocation: Observatory location.\n",
      " |  \n",
      " |  pointing\n",
      " |      astropy.coordinates.SkyCoord: Telescope boresight pointing.\n",
      " |  \n",
      " |  pressure\n",
      " |      astropy.units.Quantity: Atmospheric pressure at observatory.\n",
      " |      \n",
      " |      Used for atmospheric refraction model.\n",
      " |  \n",
      " |  relative_humidity\n",
      " |      float: Relative humidity at observatory.\n",
      " |      \n",
      " |      Used for atmospheric refraction model.\n",
      " |  \n",
      " |  temperature\n",
      " |      astropy.units.Quantity: Air temperature at observatory.\n",
      " |      \n",
      " |      Used for atmospheric refraction model.\n",
      "\n"
     ]
    }
   ],
   "source": [
    "help(desi.observation)"
   ]
  },
  {
   "cell_type": "code",
   "execution_count": 27,
   "metadata": {},
   "outputs": [
    {
     "data": {
      "text/latex": [
       "$1000 \\; \\mathrm{s}$"
      ],
      "text/plain": [
       "<Quantity 1000.0 s>"
      ]
     },
     "execution_count": 27,
     "metadata": {},
     "output_type": "execute_result"
    }
   ],
   "source": [
    "desi.observation.exposure_time"
   ]
  },
  {
   "cell_type": "code",
   "execution_count": 230,
   "metadata": {},
   "outputs": [
    {
     "ename": "AttributeError",
     "evalue": "'Simulator' object has no attribute 'simulator'",
     "output_type": "error",
     "traceback": [
      "\u001b[0;31m---------------------------------------------------------------------------\u001b[0m",
      "\u001b[0;31mAttributeError\u001b[0m                            Traceback (most recent call last)",
      "\u001b[0;32m<ipython-input-230-87b6d3387405>\u001b[0m in \u001b[0;36m<module>\u001b[0;34m()\u001b[0m\n\u001b[0;32m----> 1\u001b[0;31m \u001b[0mhelp\u001b[0m\u001b[0;34m(\u001b[0m\u001b[0mdesi\u001b[0m\u001b[0;34m.\u001b[0m\u001b[0msimulator\u001b[0m\u001b[0;34m)\u001b[0m\u001b[0;34m\u001b[0m\u001b[0m\n\u001b[0m",
      "\u001b[0;31mAttributeError\u001b[0m: 'Simulator' object has no attribute 'simulator'"
     ]
    }
   ],
   "source": []
  },
  {
   "cell_type": "code",
   "execution_count": 232,
   "metadata": {},
   "outputs": [
    {
     "name": "stdout",
     "output_type": "stream",
     "text": [
      "Help on Instrument in module specsim.instrument object:\n",
      "\n",
      "class Instrument(builtins.object)\n",
      " |  Model the instrument response of a fiber spectrograph.\n",
      " |  \n",
      " |  A spectrograph can have multiple :mod:`cameras <specsim.camera>` with\n",
      " |  different wavelength coverages. Objects representing each camera are\n",
      " |  contained in a list accessible from our ``cameras`` attribute, which will\n",
      " |  be in order of increasing effective wavelength.\n",
      " |  \n",
      " |  No instrument attributes can be changed after an instrument has been\n",
      " |  created. Create a github issue if you would like to change this.\n",
      " |  \n",
      " |  Parameters\n",
      " |  ----------\n",
      " |  name : str\n",
      " |      Descriptive name of this instrument.\n",
      " |  wavelength : astropy.units.Quantity\n",
      " |      Array of wavelength bin centers where the instrument response is\n",
      " |      calculated, with units.\n",
      " |  fiberloss_method : str\n",
      " |      Must be \"table\" or \"galsim\" or \"fastsim\".  Specifies how fiber acceptance fractions\n",
      " |      will be loaded or calculated.\n",
      " |  fiber_acceptance_dict : dict or None\n",
      " |      Dictionary of fiber acceptance fractions tabulated for different\n",
      " |      source models, with keys corresponding to source model names.\n",
      " |      Ignored when fiberloss_method is \"galsim\".\n",
      " |  fiberloss_num_wlen : int\n",
      " |      Number of wavelengths where the fiberloss fraction should be tabulated\n",
      " |      for interpolation.  Ignored when fiberloss_method is not \"galsim\".\n",
      " |  fiberloss_num_pixels : int\n",
      " |      Number of pixels used to subdivide the fiber diameter for\n",
      " |      numerical convolution and integration calculations.\n",
      " |      Ignored when fiberloss_method  is not \"galsim\".\n",
      " |  blur_function : callable\n",
      " |      Function of field angle and wavelength that returns the corresponding\n",
      " |      RMS blur in length units (e.g., microns).\n",
      " |  offset_function : callable\n",
      " |      Function of focal-plane position (x,y) in angular units and wavelength\n",
      " |      that returns the corresponding radial centroid offset in length\n",
      " |      units (e.g., microns).\n",
      " |  cameras : list\n",
      " |      List of :class:`specsim.camera.Camera` instances representing the\n",
      " |      camera(s) of this instrument.\n",
      " |  primary_mirror_diameter : astropy.units.Quantity\n",
      " |      Diameter of the primary mirror, with units.\n",
      " |  obscuration_diameter : astropy.units.Quantity\n",
      " |      Diameter of a central obscuration of the primary mirror, with units.\n",
      " |  support_width : astropy.units.Quantity\n",
      " |      Width of the obscuring supports, with units.\n",
      " |  fiber_diameter : astropy.units.Quantity\n",
      " |      Physical diameter of the simulated fibers, with units of length.\n",
      " |      Converted to an on-sky diameter using the plate scale.\n",
      " |  field_radius : astropy.units.Quantity\n",
      " |      Maximum radius of the field of view in length units measured at\n",
      " |      the focal plane. Converted to an angular field of view using the\n",
      " |      plate scale.\n",
      " |  radial_scale : callable\n",
      " |      Callable function that returns the plate scale in the radial\n",
      " |      (meridional) direction (with appropriate units) as a function of\n",
      " |      focal-plane distance (with length units) from the boresight.\n",
      " |  azimuthal_scale : callable\n",
      " |      Callable function that returns the plate scale in the azimuthal\n",
      " |      (sagittal) direction (with appropriate units) as a function of\n",
      " |      focal-plane distance (with length units) from the boresight.\n",
      " |  \n",
      " |  Methods defined here:\n",
      " |  \n",
      " |  __init__(self, name, wavelength, fiberloss_method, fiber_acceptance_dict, fast_fiber_acceptance, fiberloss_num_wlen, fiberloss_num_pixels, blur_function, offset_function, cameras, primary_mirror_diameter, obscuration_diameter, support_width, fiber_diameter, field_radius, radial_scale, azimuthal_scale)\n",
      " |      Initialize self.  See help(type(self)) for accurate signature.\n",
      " |  \n",
      " |  field_angle_to_radius(self, angle)\n",
      " |      Convert focal plane radius to an angle relative to the boresight.\n",
      " |      \n",
      " |      The mapping :math:`r(\\theta)` is calculated by numerically inverting\n",
      " |      the function :math:`\\theta(r)`.\n",
      " |      \n",
      " |      The input values must be within the field of view.\n",
      " |      Use :meth:`field_radius_to_angle` for the inverse transform.\n",
      " |      \n",
      " |      Parameters\n",
      " |      ----------\n",
      " |      angle : astropy.units.Quantity\n",
      " |          One or more angle values where the radius should be calculated.\n",
      " |          Values must be between 0 and ``field_angle``.\n",
      " |      \n",
      " |      Returns\n",
      " |      -------\n",
      " |      astropy.units.Quantity\n",
      " |          Radial coordinate(s) in the focal plane corresponding to the\n",
      " |          input angle value(s).\n",
      " |      \n",
      " |      Raises\n",
      " |      ------\n",
      " |      ValueError\n",
      " |          One or more input values are outside the allowed range.\n",
      " |  \n",
      " |  field_radius_to_angle(self, radius)\n",
      " |      Convert focal plane radius to an angle relative to the boresight.\n",
      " |      \n",
      " |      The mapping is derived from the radial (meridional) plate scale\n",
      " |      function :math:`dr/d\\theta(r)` via the integral:\n",
      " |      \n",
      " |      .. math::\n",
      " |      \n",
      " |          \\theta(r) = \\int_0^{r} \\frac{dr}{dr/d\\theta(r')}\\, dr'\n",
      " |      \n",
      " |      The input values must be within the field of view.\n",
      " |      Use :meth:`field_angle_to_radius` for the inverse transform.\n",
      " |      \n",
      " |      Parameters\n",
      " |      ----------\n",
      " |      radius : astropy.units.Quantity\n",
      " |          One or more radius values where the angle should be calculated.\n",
      " |          Values must be between 0 and ``field radius``.\n",
      " |      \n",
      " |      Returns\n",
      " |      -------\n",
      " |      astropy.units.Quantity\n",
      " |          Opening angle(s) relative to the boresight corresponding to\n",
      " |          the input radius value(s).\n",
      " |      \n",
      " |      Raises\n",
      " |      ------\n",
      " |      ValueError\n",
      " |          One or more input values are outside the allowed range.\n",
      " |  \n",
      " |  get_blur_rms(self, wavelength, angle)\n",
      " |      Get the instrument PSF blur at the specified field angle.\n",
      " |      \n",
      " |      Parameters\n",
      " |      ----------\n",
      " |      wavelength : astropy.units.Quantity\n",
      " |          Wavelength where the blur should be calculated.\n",
      " |      angle : astropy.units.Quantity\n",
      " |          Angular separation from the field center.\n",
      " |      \n",
      " |      Returns\n",
      " |      -------\n",
      " |      astropy.units.Quantity\n",
      " |          RMS blur of the instrument at this wavelength and field radius\n",
      " |          in length units.\n",
      " |  \n",
      " |  get_centroid_offset(self, angle_x, angle_y, wavelength)\n",
      " |      Get the instrument centroid offset at the specified field angles.\n",
      " |      \n",
      " |      This method does not make any assumptions about how the x and y\n",
      " |      axes are defined, as long as (0, 0) is the field center.\n",
      " |      \n",
      " |      Note that the focal-plane position is input as angles relative to\n",
      " |      the field center, while the offsets are returned as lengths relative\n",
      " |      to the nominal fiber center.\n",
      " |      \n",
      " |      Parameters\n",
      " |      ----------\n",
      " |      angle_x : astropy.units.Quantity\n",
      " |          Angular separation from the field center along x.\n",
      " |      angle_y : astropy.units.Quantity\n",
      " |          Angular separation from the field center along y.\n",
      " |      wavelength : astropy.units.Quantity\n",
      " |          Wavelength where the blur should be calculated.\n",
      " |      \n",
      " |      Returns\n",
      " |      -------\n",
      " |      tuple\n",
      " |          Tuple (dx, dy) of astropy quantities giving the spot centroid\n",
      " |          offset components at this wavelength and position in the focal\n",
      " |          plane.  Offsets are given in length units, e.g., microns.\n",
      " |  \n",
      " |  get_focal_plane_optics(self, focal_x, focal_y, wlen_grid)\n",
      " |      Calculate the optical parameters at a set of focal-plane positions.\n",
      " |      \n",
      " |      Uses :meth:`get_centroid_offset`, :meth:`get_blur_rms`, and\n",
      " |      :meth:`field_radius_to_angle` to calculate the optics at each focal\n",
      " |      plane location.\n",
      " |      \n",
      " |      This method does not make any assumptions about how the x and y\n",
      " |      axes are defined, as long as (0, 0) is the field center.  However\n",
      " |      radial symmetry is broken by the (dx, dy) offsets calculated by\n",
      " |      :meth:`get_centroid_offset`.\n",
      " |      \n",
      " |      Note that units are required for the input arrays and included with\n",
      " |      the returned arrays.\n",
      " |      \n",
      " |      Parameters\n",
      " |      ----------\n",
      " |      focal_x : :class:`astropy.units.Quantity`\n",
      " |          1D array of X coordinates in the focal plane relative to the\n",
      " |          boresight, with length units.\n",
      " |      focal_y : :class:`astropy.units.Quantity`\n",
      " |          1D array of Y coordinates in the focal plane relative to the\n",
      " |          boresight, with length units.\n",
      " |      wlen_grid : :class:`astropy.units.Quantity`\n",
      " |          1D array of wavelengths where parameters should be tabulated,\n",
      " |          with length units.\n",
      " |      \n",
      " |      Returns\n",
      " |      -------\n",
      " |      tuple\n",
      " |          Tuple of arrays scale, blur, offset with shapes (N,2), (N,M) and\n",
      " |          (N,M,2) where N is the size of the 1D input (x,y) arrays, M is\n",
      " |          the size of the input wavelength grid, and axes of length 2\n",
      " |          correspond to radial and azimuthal axes (not the input x,y!).\n",
      " |          All output arrays have units.\n",
      " |  \n",
      " |  plot(self, flux=<Quantity 1e-17 erg / (Angstrom cm2 s)>, exposure_time=<Quantity 1000.0 s>, cmap='nipy_spectral')\n",
      " |      Plot a summary of this instrument's model.\n",
      " |      \n",
      " |      Requires that the matplotlib package is installed.\n",
      " |      \n",
      " |      Parameters\n",
      " |      ----------\n",
      " |      flux : astropy.units.Quantity\n",
      " |          Constant source flux to use for displaying the instrument response.\n",
      " |      exposure_time : astropy.units.Quantity\n",
      " |          Exposure time to use for displaying the instrument response.\n",
      " |      cmap : str or matplotlib.colors.Colormap\n",
      " |          Matplotlib colormap name or instance to use for displaying the\n",
      " |          instrument response.  Colors are selected for each camera\n",
      " |          according to its central wavelength, so a spectral color map\n",
      " |          will give reasonably intuitive results.\n",
      " |  \n",
      " |  plot_field_distortion(self)\n",
      " |      Plot focal plane distortions over the field of view.\n",
      " |      \n",
      " |      Requires that the matplotlib package is installed.\n",
      " |  \n",
      " |  ----------------------------------------------------------------------\n",
      " |  Data descriptors defined here:\n",
      " |  \n",
      " |  __dict__\n",
      " |      dictionary for instance variables (if defined)\n",
      " |  \n",
      " |  __weakref__\n",
      " |      list of weak references to the object (if defined)\n",
      " |  \n",
      " |  fiberloss_method\n",
      " |      The current method used to calculate fiber acceptance fractions.\n",
      "\n"
     ]
    }
   ],
   "source": [
    "help(desi.instrument)"
   ]
  },
  {
   "cell_type": "code",
   "execution_count": 29,
   "metadata": {},
   "outputs": [
    {
     "data": {
      "text/html": [
       "&lt;Table length=4760&gt;\n",
       "<table id=\"table47204966705136\" class=\"table-striped table-bordered table-condensed\">\n",
       "<thead><tr><th>wavelength</th><th>num_source_electrons [100]</th><th>num_sky_electrons [100]</th><th>num_dark_electrons [100]</th><th>read_noise_electrons [100]</th><th>random_noise_electrons [100]</th><th>variance_electrons [100]</th><th>flux_calibration [100]</th><th>observed_flux [100]</th><th>flux_inverse_variance [100]</th></tr></thead>\n",
       "<thead><tr><th>Angstrom</th><th></th><th></th><th></th><th></th><th></th><th></th><th></th><th>erg / (Angstrom cm2 s)</th><th>Angstrom2 cm4 s2 / erg2</th></tr></thead>\n",
       "<thead><tr><th>float64</th><th>float64</th><th>float64</th><th>float64</th><th>float64</th><th>float64</th><th>float64</th><th>float64</th><th>float64</th><th>float64</th></tr></thead>\n",
       "<tr><td>3569.2</td><td>2095.06633189 .. 527.430686527</td><td>12.2518371263 .. 12.2518371263</td><td>2.49034014051 .. 2.49034014051</td><td>5.18610388611 .. 5.18610388611</td><td>0.0 .. 0.0</td><td>2136.70418267 .. 569.068537311</td><td>6.28464415544e-18 .. 6.70542571119e-18</td><td>1.3166746378e-14 .. 3.53664728631e-15</td><td>1.18493414706e+31 .. 3.90825339927e+31</td></tr>\n",
       "<tr><td>3569.7</td><td>2111.20421094 .. 522.589704217</td><td>12.2856132232 .. 12.2856132232</td><td>2.48996413913 .. 2.48996413913</td><td>5.18571236211 .. 5.18571236211</td><td>0.0 .. 0.0</td><td>2152.87140101 .. 564.256894282</td><td>6.25856398328e-18 .. 6.676805431e-18</td><td>1.3213106636e-14 .. 3.4892297753e-15</td><td>1.18585753752e+31 .. 3.97544440685e+31</td></tr>\n",
       "<tr><td>3570.2</td><td>2089.8100699 .. 488.272334219</td><td>12.2649170495 .. 12.2649170495</td><td>2.48960676316 .. 2.48960676316</td><td>5.18534020506 .. 5.18534020506</td><td>0.0 .. 0.0</td><td>2131.45234675 .. 529.914611074</td><td>6.23252613101e-18 .. 6.648237132e-18</td><td>1.30247958695e-14 .. 3.24615026288e-15</td><td>1.20780314581e+31 .. 4.26954015499e+31</td></tr>\n",
       "<tr><td>3570.7</td><td>2058.88895711 .. 435.723888294</td><td>11.8650708392 .. 11.8650708392</td><td>2.48925074479 .. 2.48925074479</td><td>5.18496943518 .. 5.18496943518</td><td>0.0 .. 0.0</td><td>2100.12718674 .. 476.962117922</td><td>6.20654585107e-18 .. 6.61973706061e-18</td><td>1.27785887146e-14 .. 2.88437757154e-15</td><td>1.23610244871e+31 .. 4.78447879473e+31</td></tr>\n",
       "<tr><td>3571.2</td><td>2041.92051899 .. 398.736899666</td><td>10.6219996145 .. 10.6219996145</td><td>2.48889608219 .. 2.48889608219</td><td>5.18460005089 .. 5.18460005089</td><td>0.0 .. 0.0</td><td>2081.91149237 .. 438.727873051</td><td>6.18062625615e-18 .. 6.59130851212e-18</td><td>1.26203475726e-14 .. 2.62819792087e-15</td><td>1.2573980209e+31 .. 5.2464011438e+31</td></tr>\n",
       "<tr><td>3571.7</td><td>1989.08679718 .. 407.1225762</td><td>9.03889528856 .. 9.03889528856</td><td>2.48854277356 .. 2.48854277356</td><td>5.1842320506 .. 5.1842320506</td><td>0.0 .. 0.0</td><td>2027.4904972 .. 445.526276217</td><td>6.15476908641e-18 .. 6.56295332169e-18</td><td>1.22423699295e-14 .. 2.67192646381e-15</td><td>1.30201996911e+31 .. 5.21108366964e+31</td></tr>\n",
       "<tr><td>3572.2</td><td>1810.62142917 .. 445.819090143</td><td>8.23312443077 .. 8.23312443077</td><td>2.48819081709 .. 2.48819081709</td><td>5.18386543272 .. 5.18386543272</td><td>0.0 .. 0.0</td><td>1848.21520524 .. 483.412866216</td><td>6.1289872369e-18 .. 6.53468521577e-18</td><td>1.10972756302e-14 .. 2.91328741727e-15</td><td>1.44035660072e+31 .. 4.84431584584e+31</td></tr>\n",
       "<tr><td>3572.7</td><td>1481.95199595 .. 473.853772188</td><td>8.75196667232 .. 8.75196667232</td><td>2.48784021096 .. 2.48784021096</td><td>5.18350019566 .. 5.18350019566</td><td>0.0 .. 0.0</td><td>1520.06047711 .. 511.962253349</td><td>6.10329942987e-18 .. 6.50652412265e-18</td><td>9.04479677197e-15 .. 3.08314099935e-15</td><td>1.76607758558e+31 .. 4.61385529537e+31</td></tr>\n",
       "<tr><td>3573.2</td><td>1124.60130879 .. 480.778173664</td><td>10.0253929127 .. 10.0253929127</td><td>2.48749095337 .. 2.48749095337</td><td>5.18313633781 .. 5.18313633781</td><td>0.0 .. 0.0</td><td>1163.97909495 .. 520.155959826</td><td>6.07772233629e-18 .. 6.47848777303e-18</td><td>6.83501449383e-15 .. 3.11471551962e-15</td><td>2.32580397835e+31 .. 4.58056588459e+31</td></tr>\n",
       "<tr><td>...</td><td>...</td><td>...</td><td>...</td><td>...</td><td>...</td><td>...</td><td>...</td><td>...</td><td>...</td></tr>\n",
       "<tr><td>5944.2</td><td>39303.3405407 .. 1034.88823612</td><td>10.8358892652 .. 10.8358892652</td><td>2.78045685301 .. 2.78045685301</td><td>5.47986624038 .. 5.47986624038</td><td>0.0 .. 0.0</td><td>39346.9858208 .. 1078.53351625</td><td>4.01881936771e-18 .. 4.19702440271e-18</td><td>1.57953026181e-13 .. 4.34345118107e-15</td><td>1.57358989506e+30 .. 5.2636059073e+31</td></tr>\n",
       "<tr><td>5944.7</td><td>37850.9982704 .. 1018.73636771</td><td>10.7023074401 .. 10.7023074401</td><td>2.7807116331 .. 2.7807116331</td><td>5.48011730144 .. 5.48011730144</td><td>0.0 .. 0.0</td><td>37894.5129751 .. 1062.25107242</td><td>4.08367250794e-18 .. 4.26494013603e-18</td><td>1.54571081035e-13 .. 4.34484962268e-15</td><td>1.58242034313e+30 .. 5.17543600054e+31</td></tr>\n",
       "<tr><td>5945.2</td><td>36910.4688309 .. 1002.15478724</td><td>10.6150772477 .. 10.6150772477</td><td>2.78096676869 .. 2.78096676869</td><td>5.48036870127 .. 5.48036870127</td><td>0.0 .. 0.0</td><td>36953.899316 .. 1045.58527236</td><td>4.15247267836e-18 .. 4.3369844871e-18</td><td>1.53269713366e-13 .. 4.34632976594e-15</td><td>1.56937294547e+30 .. 5.08469380405e+31</td></tr>\n",
       "<tr><td>5945.7</td><td>36429.2508036 .. 985.635925346</td><td>10.6394037165 .. 10.6394037165</td><td>2.78122226021 .. 2.78122226021</td><td>5.48062044027 .. 5.48062044027</td><td>0.0 .. 0.0</td><td>36472.70863 .. 1029.09375173</td><td>4.22297844318e-18 .. 4.41081690627e-18</td><td>1.53839940845e-13 .. 4.34745960295e-15</td><td>1.53742611491e+30 .. 4.99467227874e+31</td></tr>\n",
       "<tr><td>5946.2</td><td>35898.6249996 .. 970.013597569</td><td>11.1368688872 .. 11.1368688872</td><td>2.78147810812 .. 2.78147810812</td><td>5.48087251883 .. 5.48087251883</td><td>0.0 .. 0.0</td><td>35942.5833101 .. 1013.97190813</td><td>4.29174814997e-18 .. 4.48284278542e-18</td><td>1.54067857428e-13 .. 4.34841845762e-15</td><td>1.51050530451e+30 .. 4.90757629771e+31</td></tr>\n",
       "<tr><td>5946.7</td><td>35037.3016328 .. 955.685586717</td><td>12.5254307111 .. 12.5254307111</td><td>2.78173431284 .. 2.78173431284</td><td>5.48112493733 .. 5.48112493733</td><td>0.0 .. 0.0</td><td>35082.6515284 .. 1001.03548232</td><td>4.35655414805e-18 .. 4.55073468818e-18</td><td>1.52641901765e-13 .. 4.34907155047e-15</td><td>1.5018320138e+30 .. 4.82378003191e+31</td></tr>\n",
       "<tr><td>5947.2</td><td>33917.9026288 .. 942.430692749</td><td>14.267456855 .. 14.267456855</td><td>2.78199087482 .. 2.78199087482</td><td>5.48137769617 .. 5.48137769617</td><td>0.0 .. 0.0</td><td>33964.997578 .. 989.525641927</td><td>4.41782287967e-18 .. 4.61493725464e-18</td><td>1.49843286264e-13 .. 4.34925851389e-15</td><td>1.50852256864e+30 .. 4.74505604055e+31</td></tr>\n",
       "<tr><td>5947.7</td><td>32772.3570858 .. 929.302478529</td><td>14.7533518722 .. 14.7533518722</td><td>2.78224779451 .. 2.78224779451</td><td>5.48163079573 .. 5.48163079573</td><td>0.0 .. 0.0</td><td>32819.9409616 .. 976.886354377</td><td>4.47984260914e-18 .. 4.67992931843e-18</td><td>1.46815001675e-13 .. 4.34906991496e-15</td><td>1.51822693574e+30 .. 4.67387796697e+31</td></tr>\n",
       "<tr><td>5948.2</td><td>31950.8903695 .. 914.785792621</td><td>13.3516427911 .. 13.3516427911</td><td>2.78250507235 .. 2.78250507235</td><td>5.48188423641 .. 5.48188423641</td><td>0.0 .. 0.0</td><td>31997.0755722 .. 960.970995266</td><td>4.55005447938e-18 .. 4.75348485892e-18</td><td>1.45378291846e-13 .. 4.34842041438e-15</td><td>1.5095813428e+30 .. 4.60538021116e+31</td></tr>\n",
       "<tr><td>5948.7</td><td>31717.4082184 .. 898.394138976</td><td>11.3356079103 .. 11.3356079103</td><td>2.78274221521 .. 2.78274221521</td><td>5.48211783203 .. 5.48211783203</td><td>0.0 .. 0.0</td><td>31761.5801844 .. 942.566105026</td><td>4.63047049769e-18 .. 4.8377080366e-18</td><td>1.46866523018e-13 .. 4.34616854616e-15</td><td>1.46841109038e+30 .. 4.53324167593e+31</td></tr>\n",
       "</table>"
      ],
      "text/plain": [
       "<Table length=4760>\n",
       "wavelength ...      flux_inverse_variance [100]      \n",
       " Angstrom  ...        Angstrom2 cm4 s2 / erg2        \n",
       " float64   ...                float64                \n",
       "---------- ... --------------------------------------\n",
       "    3569.2 ... 1.18493414706e+31 .. 3.90825339927e+31\n",
       "    3569.7 ... 1.18585753752e+31 .. 3.97544440685e+31\n",
       "    3570.2 ... 1.20780314581e+31 .. 4.26954015499e+31\n",
       "    3570.7 ... 1.23610244871e+31 .. 4.78447879473e+31\n",
       "    3571.2 ...   1.2573980209e+31 .. 5.2464011438e+31\n",
       "    3571.7 ... 1.30201996911e+31 .. 5.21108366964e+31\n",
       "    3572.2 ... 1.44035660072e+31 .. 4.84431584584e+31\n",
       "    3572.7 ... 1.76607758558e+31 .. 4.61385529537e+31\n",
       "    3573.2 ... 2.32580397835e+31 .. 4.58056588459e+31\n",
       "       ... ...                                    ...\n",
       "    5944.2 ...  1.57358989506e+30 .. 5.2636059073e+31\n",
       "    5944.7 ... 1.58242034313e+30 .. 5.17543600054e+31\n",
       "    5945.2 ... 1.56937294547e+30 .. 5.08469380405e+31\n",
       "    5945.7 ... 1.53742611491e+30 .. 4.99467227874e+31\n",
       "    5946.2 ... 1.51050530451e+30 .. 4.90757629771e+31\n",
       "    5946.7 ...  1.5018320138e+30 .. 4.82378003191e+31\n",
       "    5947.2 ... 1.50852256864e+30 .. 4.74505604055e+31\n",
       "    5947.7 ... 1.51822693574e+30 .. 4.67387796697e+31\n",
       "    5948.2 ...  1.5095813428e+30 .. 4.60538021116e+31\n",
       "    5948.7 ... 1.46841109038e+30 .. 4.53324167593e+31"
      ]
     },
     "execution_count": 29,
     "metadata": {},
     "output_type": "execute_result"
    }
   ],
   "source": [
    "desi.camera_output[0]"
   ]
  },
  {
   "cell_type": "code",
   "execution_count": 212,
   "metadata": {},
   "outputs": [
    {
     "data": {
      "text/html": [
       "&lt;Row index=0&gt;\n",
       "<table id=\"table47204919035104\">\n",
       "<thead><tr><th>wavelength</th><th>source_flux [100]</th><th>fiberloss [100]</th><th>source_fiber_flux [100]</th><th>sky_fiber_flux [100]</th><th>num_source_photons [100]</th><th>num_sky_photons [100]</th><th>num_source_electrons_b [100]</th><th>num_sky_electrons_b [100]</th><th>num_dark_electrons_b [100]</th><th>read_noise_electrons_b [100]</th><th>num_source_electrons_r [100]</th><th>num_sky_electrons_r [100]</th><th>num_dark_electrons_r [100]</th><th>read_noise_electrons_r [100]</th><th>num_source_electrons_z [100]</th><th>num_sky_electrons_z [100]</th><th>num_dark_electrons_z [100]</th><th>read_noise_electrons_z [100]</th></tr></thead>\n",
       "<thead><tr><th>Angstrom</th><th>erg / (Angstrom cm2 s)</th><th></th><th>erg / (Angstrom cm2 s)</th><th>erg / (Angstrom cm2 s)</th><th></th><th></th><th></th><th></th><th></th><th></th><th></th><th></th><th></th><th></th><th></th><th></th><th></th><th></th></tr></thead>\n",
       "<thead><tr><th>float64</th><th>float64</th><th>float64</th><th>float64</th><th>float64</th><th>float64</th><th>float64</th><th>float64</th><th>float64</th><th>float64</th><th>float64</th><th>float64</th><th>float64</th><th>float64</th><th>float64</th><th>float64</th><th>float64</th><th>float64</th><th>float64</th></tr></thead>\n",
       "<tr><td>3550.0</td><td>1.17756008514e-14 .. 4.08270358418e-15</td><td>0.469345633978 .. 0.43788209848</td><td>3.27494686847e-15 .. 1.05933529107e-15</td><td>2.34067298173e-17 .. 2.34067298173e-17</td><td>5079.38421364 .. 1643.0101527</td><td>36.3034206971 .. 36.3034206971</td><td>0.0 .. 0.0</td><td>0.0 .. 0.0</td><td>0.0 .. 0.0</td><td>0.0 .. 0.0</td><td>0.0 .. 0.0</td><td>0.0 .. 0.0</td><td>0.0 .. 0.0</td><td>0.0 .. 0.0</td><td>0.0 .. 0.0</td><td>0.0 .. 0.0</td><td>0.0 .. 0.0</td><td>0.0 .. 0.0</td></tr>\n",
       "</table>"
      ],
      "text/plain": [
       "<Row index=0>\n",
       "wavelength           source_flux [100]                    fiberloss [100]                source_fiber_flux [100]                  sky_fiber_flux [100]             num_source_photons [100]       num_sky_photons [100]      num_source_electrons_b [100] num_sky_electrons_b [100] num_dark_electrons_b [100] read_noise_electrons_b [100] num_source_electrons_r [100] num_sky_electrons_r [100] num_dark_electrons_r [100] read_noise_electrons_r [100] num_source_electrons_z [100] num_sky_electrons_z [100] num_dark_electrons_z [100] read_noise_electrons_z [100]\n",
       " Angstrom          erg / (Angstrom cm2 s)                                                 erg / (Angstrom cm2 s)                 erg / (Angstrom cm2 s)                                                                                                                                                                                                                                                                                                                                                                                                                  \n",
       " float64                  float64                             float64                            float64                                float64                            float64                       float64                       float64                     float64                   float64                     float64                      float64                     float64                   float64                     float64                      float64                     float64                   float64                     float64           \n",
       "---------- -------------------------------------- ------------------------------- -------------------------------------- -------------------------------------- ----------------------------- ------------------------------ ---------------------------- ------------------------- -------------------------- ---------------------------- ---------------------------- ------------------------- -------------------------- ---------------------------- ---------------------------- ------------------------- -------------------------- ----------------------------\n",
       "    3550.0 1.17756008514e-14 .. 4.08270358418e-15 0.469345633978 .. 0.43788209848 3.27494686847e-15 .. 1.05933529107e-15 2.34067298173e-17 .. 2.34067298173e-17 5079.38421364 .. 1643.0101527 36.3034206971 .. 36.3034206971                   0.0 .. 0.0                0.0 .. 0.0                 0.0 .. 0.0                   0.0 .. 0.0                   0.0 .. 0.0                0.0 .. 0.0                 0.0 .. 0.0                   0.0 .. 0.0                   0.0 .. 0.0                0.0 .. 0.0                 0.0 .. 0.0                   0.0 .. 0.0"
      ]
     },
     "execution_count": 212,
     "metadata": {},
     "output_type": "execute_result"
    }
   ],
   "source": [
    "desi.simulated[0]"
   ]
  },
  {
   "cell_type": "code",
   "execution_count": 30,
   "metadata": {},
   "outputs": [
    {
     "data": {
      "text/plain": [
       "(4760,)"
      ]
     },
     "execution_count": 30,
     "metadata": {},
     "output_type": "execute_result"
    }
   ],
   "source": [
    "desi.camera_output[0]['wavelength'].shape"
   ]
  },
  {
   "cell_type": "code",
   "execution_count": 31,
   "metadata": {},
   "outputs": [
    {
     "data": {
      "text/plain": [
       "(4760, 100)"
      ]
     },
     "execution_count": 31,
     "metadata": {},
     "output_type": "execute_result"
    }
   ],
   "source": [
    "desi.camera_output[0]['num_source_electrons'].shape"
   ]
  },
  {
   "cell_type": "code",
   "execution_count": 32,
   "metadata": {},
   "outputs": [
    {
     "data": {
      "text/plain": [
       "[<matplotlib.lines.Line2D at 0x2aeec2956438>]"
      ]
     },
     "execution_count": 32,
     "metadata": {},
     "output_type": "execute_result"
    },
    {
     "data": {
      "image/png": "[encoded data removed]",
      "text/plain": [
       "<matplotlib.figure.Figure at 0x2aeec4cc2e10>"
      ]
     },
     "metadata": {},
     "output_type": "display_data"
    }
   ],
   "source": [
    "plt.plot(desi.camera_output[0]['wavelength'],desi.camera_output[0]['num_source_electrons'][:,0])"
   ]
  },
  {
   "cell_type": "code",
   "execution_count": 203,
   "metadata": {},
   "outputs": [
    {
     "data": {
      "text/plain": [
       "[<matplotlib.lines.Line2D at 0x2aeec1bd36d8>]"
      ]
     },
     "execution_count": 203,
     "metadata": {},
     "output_type": "execute_result"
    },
    {
     "data": {
      "image/png": "[encoded data removed]",
      "text/plain": [
       "<matplotlib.figure.Figure at 0x2aeec06b6ac8>"
      ]
     },
     "metadata": {},
     "output_type": "display_data"
    }
   ],
   "source": [
    "plt.plot(desi.camera_output[1]['wavelength'],desi.camera_output[1]['num_source_electrons'][:,0])"
   ]
  },
  {
   "cell_type": "code",
   "execution_count": 204,
   "metadata": {},
   "outputs": [
    {
     "data": {
      "text/plain": [
       "[<matplotlib.lines.Line2D at 0x2aeebf3ba7b8>]"
      ]
     },
     "execution_count": 204,
     "metadata": {},
     "output_type": "execute_result"
    },
    {
     "data": {
      "image/png": "[encoded data removed]",
      "text/plain": [
       "<matplotlib.figure.Figure at 0x2aeec2927f28>"
      ]
     },
     "metadata": {},
     "output_type": "display_data"
    }
   ],
   "source": [
    "plt.plot(desi.camera_output[2]['wavelength'],desi.camera_output[2]['num_source_electrons'][:,0])"
   ]
  },
  {
   "cell_type": "markdown",
   "metadata": {},
   "source": [
    "This is source photons into the fiber"
   ]
  },
  {
   "cell_type": "code",
   "execution_count": 214,
   "metadata": {},
   "outputs": [
    {
     "data": {
      "text/plain": [
       "[<matplotlib.lines.Line2D at 0x2aeec2c1f550>]"
      ]
     },
     "execution_count": 214,
     "metadata": {},
     "output_type": "execute_result"
    },
    {
     "data": {
      "image/png": "[encoded data removed]",
      "text/plain": [
       "<matplotlib.figure.Figure at 0x2aeec1214c50>"
      ]
     },
     "metadata": {},
     "output_type": "display_data"
    }
   ],
   "source": [
    "plt.plot(desi.simulated['wavelength'],desi.simulated['num_source_photons'][:,0])"
   ]
  },
  {
   "cell_type": "markdown",
   "metadata": {},
   "source": [
    "The difference in y-axis is just the wavelength binning.  desi.simulated uses 0.1A bins, camera_output uses 0.5 A bins.  <br> \n",
    "All three DESI cameras are very close to 0.5 A/pix, so photons/0.5A is equivalent to photons/pix."
   ]
  },
  {
   "cell_type": "code",
   "execution_count": 219,
   "metadata": {},
   "outputs": [
    {
     "data": {
      "text/plain": [
       "[<matplotlib.lines.Line2D at 0x2aeec11223c8>]"
      ]
     },
     "execution_count": 219,
     "metadata": {},
     "output_type": "execute_result"
    },
    {
     "data": {
      "image/png": "[encoded data removed]",
      "text/plain": [
       "<matplotlib.figure.Figure at 0x2aeebf303898>"
      ]
     },
     "metadata": {},
     "output_type": "display_data"
    }
   ],
   "source": [
    "plt.plot(desi.simulated['wavelength'],desi.simulated['num_source_electrons_b'][:,0])\n",
    "plt.plot(desi.simulated['wavelength'],desi.simulated['num_source_electrons_r'][:,0])\n",
    "plt.plot(desi.simulated['wavelength'],desi.simulated['num_source_electrons_z'][:,0])"
   ]
  },
  {
   "cell_type": "code",
   "execution_count": 220,
   "metadata": {},
   "outputs": [
    {
     "name": "stdout",
     "output_type": "stream",
     "text": [
      "wavelength\n",
      " Angstrom \n",
      "----------\n",
      "    3550.0\n",
      "    3550.1\n",
      "    3550.2\n",
      "    3550.3\n",
      "    3550.4\n",
      "wavelength\n",
      " Angstrom \n",
      "----------\n",
      "    3569.2\n",
      "    3569.7\n",
      "    3570.2\n",
      "    3570.7\n",
      "    3571.2\n"
     ]
    }
   ],
   "source": [
    "print(desi.simulated['wavelength'][0:5])\n",
    "print(desi.camera_output[0]['wavelength'][0:5])"
   ]
  },
  {
   "cell_type": "code",
   "execution_count": 224,
   "metadata": {},
   "outputs": [
    {
     "data": {
      "text/plain": [
       "{'name': 'z', 'num_fibers': 100, 'pixel_size': <Quantity 0.5 Angstrom>}"
      ]
     },
     "execution_count": 224,
     "metadata": {},
     "output_type": "execute_result"
    }
   ],
   "source": [
    "desi.camera_output[2].meta"
   ]
  },
  {
   "cell_type": "markdown",
   "metadata": {},
   "source": [
    "MAG is r magnitude"
   ]
  },
  {
   "cell_type": "code",
   "execution_count": 34,
   "metadata": {},
   "outputs": [
    {
     "data": {
      "text/plain": [
       "12.262317"
      ]
     },
     "execution_count": 34,
     "metadata": {},
     "output_type": "execute_result"
    }
   ],
   "source": [
    "starmetas['MAG'][0]"
   ]
  },
  {
   "cell_type": "code",
   "execution_count": 35,
   "metadata": {},
   "outputs": [],
   "source": [
    "greenobje = np.sum(desi.camera_output[0]['num_source_electrons'],axis=0)\n",
    "redobje = np.sum(desi.camera_output[1]['num_source_electrons'],axis=0)\n",
    "irobje = np.sum(desi.camera_output[2]['num_source_electrons'],axis=0)"
   ]
  },
  {
   "cell_type": "code",
   "execution_count": 36,
   "metadata": {},
   "outputs": [
    {
     "data": {
      "text/plain": [
       "(100,)"
      ]
     },
     "execution_count": 36,
     "metadata": {},
     "output_type": "execute_result"
    }
   ],
   "source": [
    "greenobje.shape"
   ]
  },
  {
   "cell_type": "code",
   "execution_count": 37,
   "metadata": {},
   "outputs": [],
   "source": [
    "greenskye = np.sum(desi.camera_output[0]['num_sky_electrons'],axis=0)\n",
    "redskye = np.sum(desi.camera_output[1]['num_sky_electrons'],axis=0)\n",
    "irskye = np.sum(desi.camera_output[2]['num_sky_electrons'],axis=0)"
   ]
  },
  {
   "cell_type": "code",
   "execution_count": 38,
   "metadata": {},
   "outputs": [],
   "source": [
    "rmag = starmetas['MAG']"
   ]
  },
  {
   "cell_type": "code",
   "execution_count": 39,
   "metadata": {},
   "outputs": [
    {
     "data": {
      "text/plain": [
       "[<matplotlib.lines.Line2D at 0x2aeec4453128>]"
      ]
     },
     "execution_count": 39,
     "metadata": {},
     "output_type": "execute_result"
    },
    {
     "data": {
      "image/png": "[encoded data removed]",
      "text/plain": [
       "<matplotlib.figure.Figure at 0x2aeec1a07160>"
      ]
     },
     "metadata": {},
     "output_type": "display_data"
    }
   ],
   "source": [
    "plt.plot(rmag,redskye,'bo',mew=0,ms=2)"
   ]
  },
  {
   "cell_type": "code",
   "execution_count": 40,
   "metadata": {},
   "outputs": [
    {
     "data": {
      "text/plain": [
       "[<matplotlib.lines.Line2D at 0x2aeebf354e80>]"
      ]
     },
     "execution_count": 40,
     "metadata": {},
     "output_type": "execute_result"
    },
    {
     "data": {
      "image/png": "[encoded data removed]",
      "text/plain": [
       "<matplotlib.figure.Figure at 0x2aeebf326d68>"
      ]
     },
     "metadata": {},
     "output_type": "display_data"
    }
   ],
   "source": [
    "plt.plot(rmag,redobje,'bo',mew=0,ms=2)"
   ]
  },
  {
   "cell_type": "code",
   "execution_count": 151,
   "metadata": {},
   "outputs": [
    {
     "data": {
      "text/plain": [
       "<matplotlib.colorbar.Colorbar at 0x2aeec0728898>"
      ]
     },
     "execution_count": 151,
     "metadata": {},
     "output_type": "execute_result"
    },
    {
     "data": {
      "image/png": "[encoded data removed]",
      "text/plain": [
       "<matplotlib.figure.Figure at 0x2aeec06322e8>"
      ]
     },
     "metadata": {},
     "output_type": "display_data"
    }
   ],
   "source": [
    "plt.scatter(gmr,rmag,c=np.log10(redobje),s=30)\n",
    "plt.colorbar()"
   ]
  },
  {
   "cell_type": "code",
   "execution_count": 152,
   "metadata": {},
   "outputs": [
    {
     "data": {
      "text/plain": [
       "array([  7.5,   8. ,   8.5,   9. ,   9.5,  10. ,  10.5,  11. ,  11.5,\n",
       "        12. ,  12.5,  13. ,  13.5,  14. ,  14.5,  15. ,  15.5,  16. ,\n",
       "        16.5,  17. ,  17.5,  18. ])"
      ]
     },
     "execution_count": 152,
     "metadata": {},
     "output_type": "execute_result"
    }
   ],
   "source": [
    "np.arange(22)/2.+7.5"
   ]
  },
  {
   "cell_type": "code",
   "execution_count": 157,
   "metadata": {},
   "outputs": [
    {
     "name": "stdout",
     "output_type": "stream",
     "text": [
      "[  1.12460131  11.09756952   0.07582856   0.21535071  65.30858922] 1 / s\n"
     ]
    }
   ],
   "source": [
    "print(desi.camera_output[0]['num_source_electrons'][8,0:5]/desi.observation.exposure_time)"
   ]
  },
  {
   "cell_type": "code",
   "execution_count": 158,
   "metadata": {},
   "outputs": [
    {
     "name": "stdout",
     "output_type": "stream",
     "text": [
      "num_source_electrons\n",
      "--------------------\n",
      "       1124.60130879\n",
      "       11097.5695197\n",
      "        75.828562801\n",
      "       215.350714387\n",
      "       65308.5892191\n"
     ]
    }
   ],
   "source": [
    "print(desi.camera_output[0]['num_source_electrons'][8,0:5])"
   ]
  },
  {
   "cell_type": "code",
   "execution_count": 164,
   "metadata": {},
   "outputs": [],
   "source": [
    "foo = np.sum(desi.camera_output[0]['num_source_electrons'],axis=0)/1000."
   ]
  },
  {
   "cell_type": "code",
   "execution_count": 165,
   "metadata": {},
   "outputs": [
    {
     "data": {
      "text/plain": [
       "188315105.91790879"
      ]
     },
     "execution_count": 165,
     "metadata": {},
     "output_type": "execute_result"
    }
   ],
   "source": [
    "foo[8]"
   ]
  },
  {
   "cell_type": "code",
   "execution_count": 166,
   "metadata": {},
   "outputs": [],
   "source": [
    "foo = np.sum(desi.camera_output[0]['num_source_electrons'],axis=0)"
   ]
  },
  {
   "cell_type": "code",
   "execution_count": 167,
   "metadata": {},
   "outputs": [
    {
     "data": {
      "text/plain": [
       "188315105917.90878"
      ]
     },
     "execution_count": 167,
     "metadata": {},
     "output_type": "execute_result"
    }
   ],
   "source": [
    "foo[8]"
   ]
  },
  {
   "cell_type": "code",
   "execution_count": 237,
   "metadata": {},
   "outputs": [],
   "source": [
    "# Tabulate the photon count rate in each of the three spectrograph channels for sky and source.\n",
    "# photons detected is the same as electrons. Specsim uses \"electrons\" for \"detected photons\"\n",
    "# average objects in magnitude bins over whatever other properties are in the sample\n",
    "# for stars, that averages over color/SED/spectral type.  \n",
    "# your responsibility to check that the bin boundaries hard-coded below are reasonable.\n",
    "# Fix the code to pass those as ranges args or compute on the fly if it upsets you. \n",
    "# This is only as realistic as the input.  The color distribution computed in this notebook \n",
    "# (2017 December) would be improved if it were drawn from a mock or real data. This is \n",
    "# just a random sampling of the template library for g-r > 0. \n",
    "def countstable(camoutlist, metadata,exptime):\n",
    "    greenskyerate = (np.mean(camoutlist[0]['num_sky_electrons'],axis=0))/exptime\n",
    "    redskyerate = (np.mean(camoutlist[1]['num_sky_electrons'],axis=0))/exptime\n",
    "    irskyerate = (np.mean(camoutlist[2]['num_sky_electrons'],axis=0))/exptime\n",
    "    greenobjerate = (np.mean(camoutlist[0]['num_source_electrons'],axis=0))/exptime\n",
    "    redobjerate = (np.mean(camoutlist[1]['num_source_electrons'],axis=0))/exptime\n",
    "    irobjerate = (np.mean(camoutlist[2]['num_source_electrons'],axis=0))/exptime\n",
    "    rmag = starmetas['MAG']\n",
    "    #redobjerate = redobjetot/exptime\n",
    "    # 7 - 17.5, steps 0.5\n",
    "    hilist = np.arange(22)/2.+7.\n",
    "    # 7.5 - 18,steps 0.5\n",
    "    lowlist = np.arange(22)/2.+7.5\n",
    "    nbin = len(hilist)\n",
    "    # all sky counts are the same, so no need to tabulate by magnitude\n",
    "    print('     dark sky photons/sec/pix')\n",
    "    print('{0:15} {1:10} {2:10}'.format('   green','red','IR'))\n",
    "    print('{0:10.3} {1:10.3} {2:10.3}'.format(greenskyerate[0],redskyerate[0],irskyerate[0]))\n",
    "    print(' ')\n",
    "    print('{0:20} {1:30}'.format('    r mag','Object photons/sec/pix'))\n",
    "    print('{0:5} -{1:7}  {2:10} {3:10} {4:10}'.format('r min','r max','green','red','IR'))\n",
    "    for i in range(nbin):\n",
    "        bidx = (rmag > hilist[i]) &(rmag < lowlist[i])\n",
    "        bobjred = np.mean(redobjerate[bidx])\n",
    "        bobjgreen = np.mean(greenobjerate[bidx])\n",
    "        bobjir = np.mean(irobjerate[bidx])\n",
    "        print('{0:4}  {1:5}  {2:10.3} {3:10.3} {4:10.3}'.format(hilist[i],lowlist[i],bobjgreen,bobjred,bobjir))\n",
    "        # print below for making wiki-friendly tables\n",
    "        #print('||{0:4} || {1:5} || {2:10.3} || {3:10.3} || {4:10.3}||'.format(hilist[i],lowlist[i],bobjgreen,bobjred,bobjir))\n",
    "       \n"
   ]
  },
  {
   "cell_type": "code",
   "execution_count": 209,
   "metadata": {},
   "outputs": [
    {
     "data": {
      "text/plain": [
       "7.4216757"
      ]
     },
     "execution_count": 209,
     "metadata": {},
     "output_type": "execute_result"
    }
   ],
   "source": [
    "rmag[8]"
   ]
  },
  {
   "cell_type": "code",
   "execution_count": 234,
   "metadata": {},
   "outputs": [
    {
     "name": "stdout",
     "output_type": "stream",
     "text": [
      "     dark sky photons/sec/pix\n",
      "   green        red        IR        \n",
      "    0.0905       0.16       0.43\n",
      " \n",
      "    r mag            Object photons/sec/pix        \n",
      "r min -r max    green      red        IR        \n",
      " 7.0    7.5    3.77e+04   5.78e+04   6.03e+04\n",
      " 7.5    8.0     1.4e+04   4.65e+04    7.7e+04\n",
      " 8.0    8.5    7.97e+03   2.36e+04   4.28e+04\n",
      " 8.5    9.0     4.1e+03   1.78e+04   4.53e+04\n",
      " 9.0    9.5    3.53e+03   1.06e+04    1.8e+04\n",
      " 9.5   10.0    2.38e+03   6.39e+03    1.3e+04\n",
      "10.0   10.5    9.87e+02   4.25e+03   9.44e+03\n",
      "10.5   11.0    1.08e+03   2.82e+03   7.13e+03\n",
      "11.0   11.5    6.19e+02   1.55e+03   2.27e+03\n",
      "11.5   12.0    2.42e+02   1.09e+03   3.61e+03\n",
      "12.0   12.5    2.13e+02   6.57e+02   1.23e+03\n",
      "12.5   13.0    3.01e+02   4.19e+02   5.97e+02\n",
      "13.0   13.5        91.9   2.06e+02   2.82e+02\n",
      "13.5   14.0        57.4   1.56e+02   2.96e+02\n",
      "14.0   14.5        51.6       90.2   1.11e+02\n",
      "14.5   15.0        21.1       65.7   1.25e+02\n",
      "15.0   15.5        12.0       49.8   1.05e+02\n",
      "15.5   16.0        10.5       22.0       28.4\n",
      "16.0   16.5        5.87       15.0       27.0\n",
      "16.5   17.0        3.93       12.4       27.7\n",
      "17.0   17.5        1.65       5.86       10.8\n",
      "17.5   18.0        2.01        3.4       4.43\n"
     ]
    }
   ],
   "source": [
    "countstable(desi.camera_output, starmetas, 1000.)"
   ]
  },
  {
   "cell_type": "code",
   "execution_count": 236,
   "metadata": {},
   "outputs": [
    {
     "name": "stdout",
     "output_type": "stream",
     "text": [
      "     dark sky photons/sec/pix\n",
      "   green        red        IR        \n",
      "    0.0905       0.16       0.43\n",
      " \n",
      "    r mag            Object photons/sec/pix        \n",
      "r min -r max    green      red        IR        \n",
      "|| 7.0 ||   7.5 ||   3.77e+04 ||   5.78e+04 ||   6.03e+04||\n",
      "|| 7.5 ||   8.0 ||    1.4e+04 ||   4.65e+04 ||    7.7e+04||\n",
      "|| 8.0 ||   8.5 ||   7.97e+03 ||   2.36e+04 ||   4.28e+04||\n",
      "|| 8.5 ||   9.0 ||    4.1e+03 ||   1.78e+04 ||   4.53e+04||\n",
      "|| 9.0 ||   9.5 ||   3.53e+03 ||   1.06e+04 ||    1.8e+04||\n",
      "|| 9.5 ||  10.0 ||   2.38e+03 ||   6.39e+03 ||    1.3e+04||\n",
      "||10.0 ||  10.5 ||   9.87e+02 ||   4.25e+03 ||   9.44e+03||\n",
      "||10.5 ||  11.0 ||   1.08e+03 ||   2.82e+03 ||   7.13e+03||\n",
      "||11.0 ||  11.5 ||   6.19e+02 ||   1.55e+03 ||   2.27e+03||\n",
      "||11.5 ||  12.0 ||   2.42e+02 ||   1.09e+03 ||   3.61e+03||\n",
      "||12.0 ||  12.5 ||   2.13e+02 ||   6.57e+02 ||   1.23e+03||\n",
      "||12.5 ||  13.0 ||   3.01e+02 ||   4.19e+02 ||   5.97e+02||\n",
      "||13.0 ||  13.5 ||       91.9 ||   2.06e+02 ||   2.82e+02||\n",
      "||13.5 ||  14.0 ||       57.4 ||   1.56e+02 ||   2.96e+02||\n",
      "||14.0 ||  14.5 ||       51.6 ||       90.2 ||   1.11e+02||\n",
      "||14.5 ||  15.0 ||       21.1 ||       65.7 ||   1.25e+02||\n",
      "||15.0 ||  15.5 ||       12.0 ||       49.8 ||   1.05e+02||\n",
      "||15.5 ||  16.0 ||       10.5 ||       22.0 ||       28.4||\n",
      "||16.0 ||  16.5 ||       5.87 ||       15.0 ||       27.0||\n",
      "||16.5 ||  17.0 ||       3.93 ||       12.4 ||       27.7||\n",
      "||17.0 ||  17.5 ||       1.65 ||       5.86 ||       10.8||\n",
      "||17.5 ||  18.0 ||       2.01 ||        3.4 ||       4.43||\n"
     ]
    }
   ],
   "source": [
    "countstable(desi.camera_output, starmetas, 1000.)"
   ]
  },
  {
   "cell_type": "code",
   "execution_count": null,
   "metadata": {},
   "outputs": [],
   "source": []
  }
 ],
 "metadata": {
  "kernelspec": {
   "display_name": "DESI master",
   "language": "python",
   "name": "desi-master"
  },
  "language_info": {
   "codemirror_mode": {
    "name": "ipython",
    "version": 3
   },
   "file_extension": ".py",
   "mimetype": "text/x-python",
   "name": "python",
   "nbconvert_exporter": "python",
   "pygments_lexer": "ipython3",
   "version": "3.5.3"
  }
 },
 "nbformat": 4,
 "nbformat_minor": 2
}
